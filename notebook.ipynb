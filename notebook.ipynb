{
 "cells": [
  {
   "cell_type": "markdown",
   "metadata": {},
   "source": [
    "Clusterização\n",
    "* agrupamento por consumo de energia elétrica\n",
    "\n",
    "[dataset](https://archive.ics.uci.edu/ml/datasets/Individual+household+electric+power+consumption)"
   ]
  },
  {
   "cell_type": "code",
   "execution_count": 1,
   "metadata": {},
   "outputs": [],
   "source": [
    "import pandas as pd\n",
    "import numpy as np\n",
    "import matplotlib.pyplot as plt\n",
    "from matplotlib import pylab\n",
    "from sklearn.cluster import KMeans\n",
    "from sklearn.decomposition import PCA\n",
    "from sklearn.model_selection import train_test_split\n",
    "from scipy.spatial.distance import cdist, pdist\n",
    "from sklearn.metrics import silhouette_score\n",
    "import warnings\n",
    "warnings.filterwarnings(\"ignore\")\n",
    "%matplotlib inline"
   ]
  },
  {
   "cell_type": "code",
   "execution_count": 3,
   "metadata": {},
   "outputs": [
    {
     "data": {
      "text/html": [
       "<div>\n",
       "<style scoped>\n",
       "    .dataframe tbody tr th:only-of-type {\n",
       "        vertical-align: middle;\n",
       "    }\n",
       "\n",
       "    .dataframe tbody tr th {\n",
       "        vertical-align: top;\n",
       "    }\n",
       "\n",
       "    .dataframe thead th {\n",
       "        text-align: right;\n",
       "    }\n",
       "</style>\n",
       "<table border=\"1\" class=\"dataframe\">\n",
       "  <thead>\n",
       "    <tr style=\"text-align: right;\">\n",
       "      <th></th>\n",
       "      <th>Date</th>\n",
       "      <th>Time</th>\n",
       "      <th>Global_active_power</th>\n",
       "      <th>Global_reactive_power</th>\n",
       "      <th>Voltage</th>\n",
       "      <th>Global_intensity</th>\n",
       "      <th>Sub_metering_1</th>\n",
       "      <th>Sub_metering_2</th>\n",
       "      <th>Sub_metering_3</th>\n",
       "    </tr>\n",
       "  </thead>\n",
       "  <tbody>\n",
       "    <tr>\n",
       "      <th>0</th>\n",
       "      <td>16/12/2006</td>\n",
       "      <td>17:24:00</td>\n",
       "      <td>4.216</td>\n",
       "      <td>0.418</td>\n",
       "      <td>234.840</td>\n",
       "      <td>18.400</td>\n",
       "      <td>0.000</td>\n",
       "      <td>1.000</td>\n",
       "      <td>17.0</td>\n",
       "    </tr>\n",
       "    <tr>\n",
       "      <th>1</th>\n",
       "      <td>16/12/2006</td>\n",
       "      <td>17:25:00</td>\n",
       "      <td>5.360</td>\n",
       "      <td>0.436</td>\n",
       "      <td>233.630</td>\n",
       "      <td>23.000</td>\n",
       "      <td>0.000</td>\n",
       "      <td>1.000</td>\n",
       "      <td>16.0</td>\n",
       "    </tr>\n",
       "    <tr>\n",
       "      <th>2</th>\n",
       "      <td>16/12/2006</td>\n",
       "      <td>17:26:00</td>\n",
       "      <td>5.374</td>\n",
       "      <td>0.498</td>\n",
       "      <td>233.290</td>\n",
       "      <td>23.000</td>\n",
       "      <td>0.000</td>\n",
       "      <td>2.000</td>\n",
       "      <td>17.0</td>\n",
       "    </tr>\n",
       "    <tr>\n",
       "      <th>3</th>\n",
       "      <td>16/12/2006</td>\n",
       "      <td>17:27:00</td>\n",
       "      <td>5.388</td>\n",
       "      <td>0.502</td>\n",
       "      <td>233.740</td>\n",
       "      <td>23.000</td>\n",
       "      <td>0.000</td>\n",
       "      <td>1.000</td>\n",
       "      <td>17.0</td>\n",
       "    </tr>\n",
       "    <tr>\n",
       "      <th>4</th>\n",
       "      <td>16/12/2006</td>\n",
       "      <td>17:28:00</td>\n",
       "      <td>3.666</td>\n",
       "      <td>0.528</td>\n",
       "      <td>235.680</td>\n",
       "      <td>15.800</td>\n",
       "      <td>0.000</td>\n",
       "      <td>1.000</td>\n",
       "      <td>17.0</td>\n",
       "    </tr>\n",
       "  </tbody>\n",
       "</table>\n",
       "</div>"
      ],
      "text/plain": [
       "         Date      Time Global_active_power Global_reactive_power  Voltage  \\\n",
       "0  16/12/2006  17:24:00               4.216                 0.418  234.840   \n",
       "1  16/12/2006  17:25:00               5.360                 0.436  233.630   \n",
       "2  16/12/2006  17:26:00               5.374                 0.498  233.290   \n",
       "3  16/12/2006  17:27:00               5.388                 0.502  233.740   \n",
       "4  16/12/2006  17:28:00               3.666                 0.528  235.680   \n",
       "\n",
       "  Global_intensity Sub_metering_1 Sub_metering_2  Sub_metering_3  \n",
       "0           18.400          0.000          1.000            17.0  \n",
       "1           23.000          0.000          1.000            16.0  \n",
       "2           23.000          0.000          2.000            17.0  \n",
       "3           23.000          0.000          1.000            17.0  \n",
       "4           15.800          0.000          1.000            17.0  "
      ]
     },
     "execution_count": 3,
     "metadata": {},
     "output_type": "execute_result"
    }
   ],
   "source": [
    "df = pd.read_csv('dados/household_power_consumption.txt', delimiter = ';', low_memory = False)\n",
    "df.head()"
   ]
  },
  {
   "cell_type": "code",
   "execution_count": 4,
   "metadata": {},
   "outputs": [
    {
     "data": {
      "text/plain": [
       "(2075259, 9)"
      ]
     },
     "execution_count": 4,
     "metadata": {},
     "output_type": "execute_result"
    }
   ],
   "source": [
    "df.shape"
   ]
  },
  {
   "cell_type": "code",
   "execution_count": 5,
   "metadata": {},
   "outputs": [
    {
     "data": {
      "text/plain": [
       "25979"
      ]
     },
     "execution_count": 5,
     "metadata": {},
     "output_type": "execute_result"
    }
   ],
   "source": [
    "df.isnull().values.sum()"
   ]
  },
  {
   "cell_type": "code",
   "execution_count": 6,
   "metadata": {},
   "outputs": [],
   "source": [
    "df = df.iloc[0:, 2:9].dropna()\n",
    "df.isnull().values.sum()"
   ]
  },
  {
   "cell_type": "code",
   "execution_count": 8,
   "metadata": {},
   "outputs": [
    {
     "data": {
      "text/plain": [
       "array([['4.216', '0.418', '234.840', ..., '0.000', '1.000', 17.0],\n",
       "       ['5.360', '0.436', '233.630', ..., '0.000', '1.000', 16.0],\n",
       "       ['5.374', '0.498', '233.290', ..., '0.000', '2.000', 17.0],\n",
       "       ...,\n",
       "       ['0.938', '0.000', '239.820', ..., '0.000', '0.000', 0.0],\n",
       "       ['0.934', '0.000', '239.700', ..., '0.000', '0.000', 0.0],\n",
       "       ['0.932', '0.000', '239.550', ..., '0.000', '0.000', 0.0]],\n",
       "      dtype=object)"
      ]
     },
     "execution_count": 8,
     "metadata": {},
     "output_type": "execute_result"
    }
   ],
   "source": [
    "# Obtém os valores dos atributos \n",
    "df_atrib = df.values\n"
   ]
  },
  {
   "cell_type": "code",
   "execution_count": 22,
   "metadata": {},
   "outputs": [
    {
     "data": {
      "text/plain": [
       "(20492, 7)"
      ]
     },
     "execution_count": 22,
     "metadata": {},
     "output_type": "execute_result"
    }
   ],
   "source": [
    "# Coleta uma amostra de 1% dos dados para não comprometer a memória do computador\n",
    "amostra1, amostra2 = train_test_split(df.values, train_size = .01)\n",
    "amostra1.shape"
   ]
  },
  {
   "cell_type": "code",
   "execution_count": 23,
   "metadata": {},
   "outputs": [
    {
     "data": {
      "text/plain": [
       "Text(0, 0.5, 'Inertia')"
      ]
     },
     "execution_count": 23,
     "metadata": {},
     "output_type": "execute_result"
    },
    {
     "data": {
      "image/png": "[encoded data removed]",
      "text/plain": [
       "<Figure size 360x360 with 1 Axes>"
      ]
     },
     "metadata": {
      "needs_background": "light"
     },
     "output_type": "display_data"
    }
   ],
   "source": [
    "from sklearn.preprocessing import StandardScaler\n",
    "scaller = StandardScaler() \n",
    "X_std =scaller.fit_transform(amostra1)\n",
    "\n",
    "inertias = [] \n",
    "list_k = list(range(1, 10))\n",
    "for k in list_k:\n",
    "    km = KMeans(n_clusters=k)\n",
    "    km.fit(X_std)\n",
    "    inertias.append(km.inertia_)\n",
    "plt.figure(figsize=(5,5))\n",
    "plt.plot(list_k, inertias, '-o')\n",
    "plt.xlabel(r'Number of clusters *k*')\n",
    "plt.ylabel('Inertia')"
   ]
  },
  {
   "cell_type": "code",
   "execution_count": 24,
   "metadata": {},
   "outputs": [],
   "source": [
    "# Aplica redução de dimensionalidade\n",
    "pca = PCA(n_components = 2).fit_transform(amostra1)\n"
   ]
  },
  {
   "cell_type": "code",
   "execution_count": 25,
   "metadata": {},
   "outputs": [
    {
     "data": {
      "text/plain": [
       "KMeans()"
      ]
     },
     "execution_count": 25,
     "metadata": {},
     "output_type": "execute_result"
    }
   ],
   "source": [
    "# Criando um modelo com K = 8\n",
    "modelo_v1 = KMeans(n_clusters = 8)\n",
    "modelo_v1.fit(pca)"
   ]
  },
  {
   "cell_type": "code",
   "execution_count": 26,
   "metadata": {},
   "outputs": [
    {
     "name": "stdout",
     "output_type": "stream",
     "text": [
      "[[11.02885313 -5.49651005]\n",
      " [-6.70168797  0.74693151]\n",
      " [ 8.32379814 31.3695196 ]\n",
      " [24.73829739 24.09438371]\n",
      " [ 2.91123761 17.51205497]\n",
      " [19.69744789 11.31360782]\n",
      " [32.05312798 44.27917054]\n",
      " [ 3.54149642 -3.19941615]]\n",
      "Número Estimado de Clusters: 8\n"
     ]
    }
   ],
   "source": [
    "# Coletando labels, centróides e número de clusters\n",
    "labels = modelo_v1.labels_\n",
    "cluster_centers = modelo_v1.cluster_centers_\n",
    "n_clusters_ = len(np.unique(labels))\n",
    "\n",
    "# Print\n",
    "print(cluster_centers)\n",
    "print(\"Número Estimado de Clusters:\", n_clusters_)"
   ]
  },
  {
   "cell_type": "code",
   "execution_count": 27,
   "metadata": {},
   "outputs": [
    {
     "data": {
      "image/png": "[encoded data removed]",
      "text/plain": [
       "<Figure size 432x288 with 1 Axes>"
      ]
     },
     "metadata": {
      "needs_background": "light"
     },
     "output_type": "display_data"
    }
   ],
   "source": [
    "colors = 10*['r.','g.','b.','c.','k.','y.','m.','black']\n",
    "\n",
    "for i in range(len(pca)):\n",
    "    plt.plot(pca[i][0], pca[i][1], colors[labels[i]], markersize = 10)\n",
    "\n",
    "plt.scatter(cluster_centers[:,0], cluster_centers[:,1], marker = \"x\", color = 'lime', s = 60, linewidths = 5, zorder = 10)\n",
    "plt.show()\n"
   ]
  },
  {
   "cell_type": "code",
   "execution_count": 28,
   "metadata": {},
   "outputs": [
    {
     "data": {
      "text/plain": [
       "0.791904592332794"
      ]
     },
     "execution_count": 28,
     "metadata": {},
     "output_type": "execute_result"
    }
   ],
   "source": [
    "# Silhouette Score\n",
    "labels = modelo_v1.labels_\n",
    "silhouette_score(pca, labels, metric = 'euclidean')"
   ]
  },
  {
   "cell_type": "markdown",
   "metadata": {},
   "source": [
    "#### Criando o Cluster Map com os clusters do Modelo V1 que apresentou melhor Silhouette Score."
   ]
  },
  {
   "cell_type": "code",
   "execution_count": 30,
   "metadata": {},
   "outputs": [
    {
     "data": {
      "text/html": [
       "<div>\n",
       "<style scoped>\n",
       "    .dataframe tbody tr th:only-of-type {\n",
       "        vertical-align: middle;\n",
       "    }\n",
       "\n",
       "    .dataframe tbody tr th {\n",
       "        vertical-align: top;\n",
       "    }\n",
       "\n",
       "    .dataframe thead th {\n",
       "        text-align: right;\n",
       "    }\n",
       "</style>\n",
       "<table border=\"1\" class=\"dataframe\">\n",
       "  <thead>\n",
       "    <tr style=\"text-align: right;\">\n",
       "      <th></th>\n",
       "      <th>Global_active_power</th>\n",
       "      <th>Global_reactive_power</th>\n",
       "      <th>Voltage</th>\n",
       "      <th>Global_intensity</th>\n",
       "      <th>Sub_metering_1</th>\n",
       "      <th>Sub_metering_2</th>\n",
       "      <th>Sub_metering_3</th>\n",
       "      <th>cluster</th>\n",
       "    </tr>\n",
       "  </thead>\n",
       "  <tbody>\n",
       "    <tr>\n",
       "      <th>0</th>\n",
       "      <td>2.848</td>\n",
       "      <td>0.182</td>\n",
       "      <td>239.690</td>\n",
       "      <td>11.800</td>\n",
       "      <td>0.000</td>\n",
       "      <td>1.000</td>\n",
       "      <td>19.0</td>\n",
       "      <td>0</td>\n",
       "    </tr>\n",
       "    <tr>\n",
       "      <th>1</th>\n",
       "      <td>0.678</td>\n",
       "      <td>0.056</td>\n",
       "      <td>238.890</td>\n",
       "      <td>4.200</td>\n",
       "      <td>0.000</td>\n",
       "      <td>0.000</td>\n",
       "      <td>0.0</td>\n",
       "      <td>1</td>\n",
       "    </tr>\n",
       "    <tr>\n",
       "      <th>2</th>\n",
       "      <td>3.656</td>\n",
       "      <td>0.178</td>\n",
       "      <td>237.060</td>\n",
       "      <td>15.400</td>\n",
       "      <td>0.000</td>\n",
       "      <td>1.000</td>\n",
       "      <td>0.0</td>\n",
       "      <td>1</td>\n",
       "    </tr>\n",
       "    <tr>\n",
       "      <th>3</th>\n",
       "      <td>4.104</td>\n",
       "      <td>0.106</td>\n",
       "      <td>236.430</td>\n",
       "      <td>17.200</td>\n",
       "      <td>0.000</td>\n",
       "      <td>1.000</td>\n",
       "      <td>17.0</td>\n",
       "      <td>0</td>\n",
       "    </tr>\n",
       "    <tr>\n",
       "      <th>4</th>\n",
       "      <td>0.452</td>\n",
       "      <td>0.118</td>\n",
       "      <td>247.370</td>\n",
       "      <td>1.800</td>\n",
       "      <td>0.000</td>\n",
       "      <td>0.000</td>\n",
       "      <td>1.0</td>\n",
       "      <td>1</td>\n",
       "    </tr>\n",
       "    <tr>\n",
       "      <th>...</th>\n",
       "      <td>...</td>\n",
       "      <td>...</td>\n",
       "      <td>...</td>\n",
       "      <td>...</td>\n",
       "      <td>...</td>\n",
       "      <td>...</td>\n",
       "      <td>...</td>\n",
       "      <td>...</td>\n",
       "    </tr>\n",
       "    <tr>\n",
       "      <th>20487</th>\n",
       "      <td>0.288</td>\n",
       "      <td>0.000</td>\n",
       "      <td>241.180</td>\n",
       "      <td>1.400</td>\n",
       "      <td>0.000</td>\n",
       "      <td>0.000</td>\n",
       "      <td>1.0</td>\n",
       "      <td>1</td>\n",
       "    </tr>\n",
       "    <tr>\n",
       "      <th>20488</th>\n",
       "      <td>1.766</td>\n",
       "      <td>0.222</td>\n",
       "      <td>241.220</td>\n",
       "      <td>7.200</td>\n",
       "      <td>0.000</td>\n",
       "      <td>2.000</td>\n",
       "      <td>18.0</td>\n",
       "      <td>0</td>\n",
       "    </tr>\n",
       "    <tr>\n",
       "      <th>20489</th>\n",
       "      <td>0.320</td>\n",
       "      <td>0.120</td>\n",
       "      <td>244.190</td>\n",
       "      <td>1.400</td>\n",
       "      <td>0.000</td>\n",
       "      <td>2.000</td>\n",
       "      <td>0.0</td>\n",
       "      <td>1</td>\n",
       "    </tr>\n",
       "    <tr>\n",
       "      <th>20490</th>\n",
       "      <td>1.496</td>\n",
       "      <td>0.000</td>\n",
       "      <td>244.090</td>\n",
       "      <td>6.000</td>\n",
       "      <td>0.000</td>\n",
       "      <td>0.000</td>\n",
       "      <td>18.0</td>\n",
       "      <td>0</td>\n",
       "    </tr>\n",
       "    <tr>\n",
       "      <th>20491</th>\n",
       "      <td>0.328</td>\n",
       "      <td>0.114</td>\n",
       "      <td>244.360</td>\n",
       "      <td>1.400</td>\n",
       "      <td>0.000</td>\n",
       "      <td>0.000</td>\n",
       "      <td>0.0</td>\n",
       "      <td>1</td>\n",
       "    </tr>\n",
       "  </tbody>\n",
       "</table>\n",
       "<p>20492 rows × 8 columns</p>\n",
       "</div>"
      ],
      "text/plain": [
       "       Global_active_power Global_reactive_power  Voltage Global_intensity  \\\n",
       "0                    2.848                 0.182  239.690           11.800   \n",
       "1                    0.678                 0.056  238.890            4.200   \n",
       "2                    3.656                 0.178  237.060           15.400   \n",
       "3                    4.104                 0.106  236.430           17.200   \n",
       "4                    0.452                 0.118  247.370            1.800   \n",
       "...                    ...                   ...      ...              ...   \n",
       "20487                0.288                 0.000  241.180            1.400   \n",
       "20488                1.766                 0.222  241.220            7.200   \n",
       "20489                0.320                 0.120  244.190            1.400   \n",
       "20490                1.496                 0.000  244.090            6.000   \n",
       "20491                0.328                 0.114  244.360            1.400   \n",
       "\n",
       "      Sub_metering_1 Sub_metering_2 Sub_metering_3  cluster  \n",
       "0              0.000          1.000           19.0        0  \n",
       "1              0.000          0.000            0.0        1  \n",
       "2              0.000          1.000            0.0        1  \n",
       "3              0.000          1.000           17.0        0  \n",
       "4              0.000          0.000            1.0        1  \n",
       "...              ...            ...            ...      ...  \n",
       "20487          0.000          0.000            1.0        1  \n",
       "20488          0.000          2.000           18.0        0  \n",
       "20489          0.000          2.000            0.0        1  \n",
       "20490          0.000          0.000           18.0        0  \n",
       "20491          0.000          0.000            0.0        1  \n",
       "\n",
       "[20492 rows x 8 columns]"
      ]
     },
     "execution_count": 30,
     "metadata": {},
     "output_type": "execute_result"
    }
   ],
   "source": [
    "names = ['Global_active_power', 'Global_reactive_power', 'Voltage', 'Global_intensity', 'Sub_metering_1', 'Sub_metering_2', 'Sub_metering_3']\n",
    "\n",
    "# Cluster map\n",
    "cluster_map = pd.DataFrame(amostra1, columns = names)\n",
    "cluster_map['Global_active_power'] = pd.to_numeric(cluster_map['Global_active_power'])\n",
    "cluster_map['cluster'] = modelo_v1.labels_\n",
    "cluster_map"
   ]
  },
  {
   "cell_type": "code",
   "execution_count": 33,
   "metadata": {},
   "outputs": [
    {
     "data": {
      "text/plain": [
       "cluster\n",
       "0    1.840724\n",
       "1    0.508984\n",
       "2    3.427899\n",
       "3    4.446201\n",
       "4    2.520208\n",
       "5    3.699461\n",
       "6    6.503967\n",
       "7    1.121394\n",
       "Name: Global_active_power, dtype: float64"
      ]
     },
     "execution_count": 33,
     "metadata": {},
     "output_type": "execute_result"
    }
   ],
   "source": [
    "# Média de consumo de energia por cluster\n",
    "cluster_map.groupby('cluster')['Global_active_power'].mean()"
   ]
  },
  {
   "cell_type": "markdown",
   "metadata": {},
   "source": [
    "Os clientes do cluster 2 e 5 consome em media uma quantidade maior de energia elétrica."
   ]
  }
 ],
 "metadata": {
  "kernelspec": {
   "display_name": "Python 3.9.12 ('base')",
   "language": "python",
   "name": "python3"
  },
  "language_info": {
   "codemirror_mode": {
    "name": "ipython",
    "version": 3
   },
   "file_extension": ".py",
   "mimetype": "text/x-python",
   "name": "python",
   "nbconvert_exporter": "python",
   "pygments_lexer": "ipython3",
   "version": "3.9.12"
  },
  "orig_nbformat": 4,
  "vscode": {
   "interpreter": {
    "hash": "0a68ab044c6ea367198d7b58f0f8352272d5267d2d2c131306c104f6e9ede3d6"
   }
  }
 },
 "nbformat": 4,
 "nbformat_minor": 2
}
